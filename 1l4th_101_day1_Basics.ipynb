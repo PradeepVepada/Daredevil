{
 "cells": [
  {
   "cell_type": "code",
   "execution_count": 5,
   "id": "cbd9d610",
   "metadata": {},
   "outputs": [
    {
     "name": "stdout",
     "output_type": "stream",
     "text": [
      "How are you\n"
     ]
    }
   ],
   "source": [
    "print(\"How are you\")\n",
    "name = 'iphone 5s'"
   ]
  },
  {
   "cell_type": "code",
   "execution_count": 2,
   "id": "d3fd40c1",
   "metadata": {},
   "outputs": [
    {
     "name": "stdout",
     "output_type": "stream",
     "text": [
      "How are you check my cut\n"
     ]
    }
   ],
   "source": [
    "print('How are you check my cut')"
   ]
  },
  {
   "cell_type": "code",
   "execution_count": 4,
   "id": "0b64a6ce",
   "metadata": {},
   "outputs": [
    {
     "name": "stdout",
     "output_type": "stream",
     "text": [
      "<class 'bool'>\n"
     ]
    }
   ],
   "source": [
    "is_android = False\n",
    "print(type(is_android))"
   ]
  },
  {
   "cell_type": "code",
   "execution_count": 9,
   "id": "318c0f3a",
   "metadata": {},
   "outputs": [
    {
     "name": "stdout",
     "output_type": "stream",
     "text": [
      "Now printing outside the if condition\n"
     ]
    }
   ],
   "source": [
    "if is_android == True:\n",
    "    print('I bought a new ' + name)\n",
    "    print('Conitnuiing to print inside the if condition still')\n",
    "print('Now printing outside the if condition')    "
   ]
  },
  {
   "cell_type": "code",
   "execution_count": 10,
   "id": "fc581260",
   "metadata": {},
   "outputs": [],
   "source": [
    "range?"
   ]
  },
  {
   "cell_type": "code",
   "execution_count": null,
   "id": "c63894a4",
   "metadata": {},
   "outputs": [],
   "source": [
    "i=0\n",
    "while (i<5):\n",
    "    print(i,i**2)\n",
    "    i=i+1;\n",
    "    print(i,i**2)"
   ]
  },
  {
   "cell_type": "code",
   "execution_count": null,
   "id": "b865d0f2",
   "metadata": {},
   "outputs": [],
   "source": [
    "for i in range (5):\n",
    "    print(i,i**2)"
   ]
  },
  {
   "cell_type": "code",
   "execution_count": null,
   "id": "ce1c1983",
   "metadata": {},
   "outputs": [],
   "source": []
  }
 ],
 "metadata": {
  "kernelspec": {
   "display_name": "Python 3 (ipykernel)",
   "language": "python",
   "name": "python3"
  },
  "language_info": {
   "codemirror_mode": {
    "name": "ipython",
    "version": 3
   },
   "file_extension": ".py",
   "mimetype": "text/x-python",
   "name": "python",
   "nbconvert_exporter": "python",
   "pygments_lexer": "ipython3",
   "version": "3.9.7"
  }
 },
 "nbformat": 4,
 "nbformat_minor": 5
}
